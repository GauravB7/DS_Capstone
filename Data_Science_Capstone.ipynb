{
  "nbformat": 4,
  "nbformat_minor": 0,
  "metadata": {
    "colab": {
      "name": "Data Science Capstone.ipynb",
      "provenance": [],
      "collapsed_sections": [],
      "authorship_tag": "ABX9TyM6izBUFeEv+EsF1j3T6ycc",
      "include_colab_link": true
    },
    "kernelspec": {
      "name": "python3",
      "display_name": "Python 3"
    }
  },
  "cells": [
    {
      "cell_type": "markdown",
      "metadata": {
        "id": "view-in-github",
        "colab_type": "text"
      },
      "source": [
        "<a href=\"https://colab.research.google.com/github/GauravB7/DS_Capstone/blob/master/Data_Science_Capstone.ipynb\" target=\"_parent\"><img src=\"https://colab.research.google.com/assets/colab-badge.svg\" alt=\"Open In Colab\"/></a>"
      ]
    },
    {
      "cell_type": "code",
      "metadata": {
        "id": "YFAeOti17l0p",
        "colab_type": "code",
        "colab": {
          "base_uri": "https://localhost:8080/",
          "height": 52
        },
        "outputId": "61ccb525-b5ee-45dd-e138-010537351572"
      },
      "source": [
        "#Setting up Java Environment to Java 8 from Default Java 11\n",
        "!apt-get install openjdk-8-jdk-headless -qq > /dev/null\n",
        "!wget -q https://www-us.apache.org/dist/spark/spark-2.4.1/spark-2.4.1-bin-hadoop2.7.tgz\n",
        "!tar xf spark-2.4.1-bin-hadoop2.7.tgz\n",
        "!pip install -q findspark"
      ],
      "execution_count": null,
      "outputs": [
        {
          "output_type": "stream",
          "text": [
            "tar: spark-2.4.1-bin-hadoop2.7.tgz: Cannot open: No such file or directory\n",
            "tar: Error is not recoverable: exiting now\n"
          ],
          "name": "stdout"
        }
      ]
    },
    {
      "cell_type": "code",
      "metadata": {
        "id": "B8pcHoat7vpm",
        "colab_type": "code",
        "colab": {}
      },
      "source": [
        "import os\n",
        "os.environ[\"JAVA_HOME\"] = \"/usr/lib/jvm/java-8-openjdk-amd64\""
      ],
      "execution_count": null,
      "outputs": []
    },
    {
      "cell_type": "code",
      "metadata": {
        "id": "C3eF9CzI72eT",
        "colab_type": "code",
        "colab": {
          "base_uri": "https://localhost:8080/",
          "height": 262
        },
        "outputId": "5fa4752c-76d6-4e19-d203-002ac624482e"
      },
      "source": [
        "#Installing the Pyspark library\n",
        "!pip install pyspark==2.4.5"
      ],
      "execution_count": null,
      "outputs": [
        {
          "output_type": "stream",
          "text": [
            "Collecting pyspark==2.4.5\n",
            "\u001b[?25l  Downloading https://files.pythonhosted.org/packages/9a/5a/271c416c1c2185b6cb0151b29a91fff6fcaed80173c8584ff6d20e46b465/pyspark-2.4.5.tar.gz (217.8MB)\n",
            "\u001b[K     |████████████████████████████████| 217.8MB 54kB/s \n",
            "\u001b[?25hCollecting py4j==0.10.7\n",
            "\u001b[?25l  Downloading https://files.pythonhosted.org/packages/e3/53/c737818eb9a7dc32a7cd4f1396e787bd94200c3997c72c1dbe028587bd76/py4j-0.10.7-py2.py3-none-any.whl (197kB)\n",
            "\u001b[K     |████████████████████████████████| 204kB 37.9MB/s \n",
            "\u001b[?25hBuilding wheels for collected packages: pyspark\n",
            "  Building wheel for pyspark (setup.py) ... \u001b[?25l\u001b[?25hdone\n",
            "  Created wheel for pyspark: filename=pyspark-2.4.5-py2.py3-none-any.whl size=218257927 sha256=445a234789ad63222861a3946d3a69ce409ce8fdf1fe5a3178c2f7137c8e8f94\n",
            "  Stored in directory: /root/.cache/pip/wheels/bf/db/04/61d66a5939364e756eb1c1be4ec5bdce6e04047fc7929a3c3c\n",
            "Successfully built pyspark\n",
            "Installing collected packages: py4j, pyspark\n",
            "Successfully installed py4j-0.10.7 pyspark-2.4.5\n"
          ],
          "name": "stdout"
        }
      ]
    },
    {
      "cell_type": "code",
      "metadata": {
        "id": "d2xh_MP273FJ",
        "colab_type": "code",
        "colab": {}
      },
      "source": [
        "#Checking whether pyspark installed properly or not and importing necessary packages out of it\n",
        "try:\n",
        "    from pyspark import SparkContext, SparkConf\n",
        "    from pyspark.sql import SparkSession\n",
        "except ImportError as e:\n",
        "    printmd('<<<<<!!!!! Please restart your kernel after installing Apache Spark !!!!!>>>>>')"
      ],
      "execution_count": null,
      "outputs": []
    },
    {
      "cell_type": "code",
      "metadata": {
        "id": "Hf36iYGq7977",
        "colab_type": "code",
        "colab": {}
      },
      "source": [
        "#Creating an Spark instance\n",
        "sc = SparkContext.getOrCreate(SparkConf().setMaster(\"local[*]\"))\n",
        "\n",
        "spark = SparkSession \\\n",
        "    .builder \\\n",
        "    .getOrCreate()"
      ],
      "execution_count": null,
      "outputs": []
    },
    {
      "cell_type": "code",
      "metadata": {
        "id": "2Ulihes194ZL",
        "colab_type": "code",
        "colab": {}
      },
      "source": [
        "import pandas             #importing pandas library to read csv file and create dataframe out of it\n",
        "df=pandas.read_csv('https://raw.githubusercontent.com/GauravB7/DS_Capstone/master/datasets_644702_1143107_INDIAVIX.csv')\n",
        "df=spark.createDataFrame(df)  #Converting pandas dataframe to spark dataframe"
      ],
      "execution_count": null,
      "outputs": []
    },
    {
      "cell_type": "code",
      "metadata": {
        "id": "5amuUfR78RkL",
        "colab_type": "code",
        "colab": {
          "base_uri": "https://localhost:8080/",
          "height": 466
        },
        "outputId": "dc93e408-b12c-46bb-be9f-85ce1e454c51"
      },
      "source": [
        "df.createOrReplaceTempView(\"df\")  #Creating a Table view of the DataFrame\n",
        "spark.sql(\"SELECT * from df\").show()  #A look at the data "
      ],
      "execution_count": null,
      "outputs": [
        {
          "output_type": "stream",
          "text": [
            "+----------+-----+-----+-----+-----+--------+------+--------------------+\n",
            "|      Date| Open| High|  Low|Close|Previous|Change|             %Change|\n",
            "+----------+-----+-----+-----+-----+--------+------+--------------------+\n",
            "|2009-03-02|43.19|43.38|41.44|43.17|     NaN|   0.0|                 0.0|\n",
            "|2009-03-03|43.17| 43.9| 41.2|43.89|   43.17|  0.72|              0.0167|\n",
            "|2009-03-04|43.89|43.89|42.16|42.52|   43.89| -1.37|             -0.0312|\n",
            "|2009-03-05|42.52|42.71|40.41|41.49|   42.52| -1.03|             -0.0242|\n",
            "|2009-03-06|41.49|41.49|37.57|38.16|   41.49| -3.33|             -0.0803|\n",
            "|2009-03-09|38.16|41.14|38.16|40.87|   38.16|  2.71|               0.071|\n",
            "|2009-03-12|40.87|40.87| 38.5|39.27|   40.87|  -1.6|             -0.0391|\n",
            "|2009-03-13|39.27|39.27|35.08|35.56|   39.27| -3.71|             -0.0945|\n",
            "|2009-03-16|35.56|37.88|35.56| 36.7|   35.56|  1.14|0.032100000000000004|\n",
            "|2009-03-17| 36.7|38.76|34.85|38.43|    36.7|  1.73|              0.0471|\n",
            "|2009-03-18|38.43|38.86|36.99|38.15|   38.43| -0.28|             -0.0073|\n",
            "|2009-03-19|38.15| 38.6|36.65|37.74|   38.15| -0.41|             -0.0107|\n",
            "|2009-03-20|37.74|37.99|34.98| 37.0|   37.74| -0.74|             -0.0196|\n",
            "|2009-03-23| 37.0| 38.6|36.62|38.59|    37.0|  1.59|               0.043|\n",
            "|2009-03-24|38.59|39.86|36.34|38.02|   38.59| -0.57|             -0.0148|\n",
            "|2009-03-25|38.02| 41.7|35.94|37.41|   38.02| -0.61|              -0.016|\n",
            "|2009-03-26|37.41| 40.2|36.52|37.23|   37.41| -0.18|             -0.0048|\n",
            "|2009-03-27|37.23|40.34|36.79|37.58|   37.23|  0.35|              0.0094|\n",
            "|2009-03-30|37.58|41.31|37.58|40.09|   37.58|  2.51|              0.0668|\n",
            "|2009-03-31|40.09|41.03|39.16|39.49|   40.09|  -0.6|              -0.015|\n",
            "+----------+-----+-----+-----+-----+--------+------+--------------------+\n",
            "only showing top 20 rows\n",
            "\n"
          ],
          "name": "stdout"
        }
      ]
    },
    {
      "cell_type": "code",
      "metadata": {
        "id": "gucPJ_d08YEW",
        "colab_type": "code",
        "colab": {
          "base_uri": "https://localhost:8080/",
          "height": 34
        },
        "outputId": "e9ac68ee-6de8-4e67-d33c-0dcb7510f26e"
      },
      "source": [
        "import numpy as np\n",
        "\n",
        "means=spark.sql(\"select mean(Open),mean(High),mean(Low),mean(Close) from df\").collect() #Calculating mean values of Open,High,Low and Close Columns\n",
        "means=np.array(means)\n",
        "means\n"
      ],
      "execution_count": null,
      "outputs": [
        {
          "output_type": "execute_result",
          "data": {
            "text/plain": [
              "array([[19.63703684, 20.55077465, 18.29772571, 19.76584056]])"
            ]
          },
          "metadata": {
            "tags": []
          },
          "execution_count": 13
        }
      ]
    },
    {
      "cell_type": "code",
      "metadata": {
        "id": "dHjJp72_CkeY",
        "colab_type": "code",
        "colab": {
          "base_uri": "https://localhost:8080/",
          "height": 280
        },
        "outputId": "4ce5e8bf-c6f7-45eb-ead2-36edcfe12a63"
      },
      "source": [
        "#Plotting the means using Scatter Plots\n",
        "%matplotlib inline\n",
        "import matplotlib.pyplot as plt\n",
        "\n",
        "fig=plt.figure()\n",
        "ax=fig.add_subplot(111)\n",
        "ax.scatter([0,1,2,3],means)\n",
        "ax.set_xlabel('0:mean_open,1:mean_high,2:mean_low,3:mean_close')\n",
        "plt.show()"
      ],
      "execution_count": null,
      "outputs": [
        {
          "output_type": "display_data",
          "data": {
            "image/png": "[encoded data removed]",
            "text/plain": [
              "<Figure size 432x288 with 1 Axes>"
            ]
          },
          "metadata": {
            "tags": [],
            "needs_background": "light"
          }
        }
      ]
    },
    {
      "cell_type": "code",
      "metadata": {
        "id": "S1nRLW-yEEjt",
        "colab_type": "code",
        "colab": {
          "base_uri": "https://localhost:8080/",
          "height": 54
        },
        "outputId": "9631f337-415a-40dd-8258-3ae44b9d24d0"
      },
      "source": [
        "#Calculating Standard Deviations of the columns to understand the deviation from Mean value\n",
        "sds = spark.sql(\"select stddev(Open),stddev(High),stddev(Low),stddev(Close) from df\").collect()\n",
        "sds\n"
      ],
      "execution_count": null,
      "outputs": [
        {
          "output_type": "execute_result",
          "data": {
            "text/plain": [
              "[Row(stddev_samp(Open)=7.917075587369417, stddev_samp(High)=8.439532476533513, stddev_samp(Low)=7.696670099823454, stddev_samp(Close)=8.063059841036065)]"
            ]
          },
          "metadata": {
            "tags": []
          },
          "execution_count": 15
        }
      ]
    },
    {
      "cell_type": "code",
      "metadata": {
        "id": "ZpGX36LLExmG",
        "colab_type": "code",
        "colab": {
          "base_uri": "https://localhost:8080/",
          "height": 280
        },
        "outputId": "deffc151-bcd0-4d0d-cd36-db599dcad20c"
      },
      "source": [
        "#Visualizing Standard Deviation values\n",
        "fig=plt.figure()\n",
        "ax=fig.add_subplot(111)\n",
        "ax.scatter([0,1,2,3],sds)\n",
        "ax.set_xlabel('0:Std_open,1:Std_high,2:Std_low,3:Std_close')\n",
        "plt.show()"
      ],
      "execution_count": null,
      "outputs": [
        {
          "output_type": "display_data",
          "data": {
            "image/png": "[encoded data removed]",
            "text/plain": [
              "<Figure size 432x288 with 1 Axes>"
            ]
          },
          "metadata": {
            "tags": [],
            "needs_background": "light"
          }
        }
      ]
    },
    {
      "cell_type": "code",
      "metadata": {
        "id": "k-Pt3b4EE9t4",
        "colab_type": "code",
        "colab": {
          "base_uri": "https://localhost:8080/",
          "height": 54
        },
        "outputId": "7c4c0b9b-028f-4e78-9309-cc7cbab0e072"
      },
      "source": [
        "#Calculating correlations amongst tables to understand the degrees of correlation\n",
        "corrs= spark.sql(\"Select corr(Open,Close),corr(High,Close),corr(Low,Close),corr(Date,Close) from df\").collect()\n",
        "corrs"
      ],
      "execution_count": null,
      "outputs": [
        {
          "output_type": "execute_result",
          "data": {
            "text/plain": [
              "[Row(corr(Open, Close)=0.9860906428723021, corr(High, Close)=0.9955679803648422, corr(Low, Close)=0.9872261014268391, corr(CAST(Date AS DOUBLE), Close)=None)]"
            ]
          },
          "metadata": {
            "tags": []
          },
          "execution_count": 17
        }
      ]
    },
    {
      "cell_type": "code",
      "metadata": {
        "id": "xhoQkQ6fGJXc",
        "colab_type": "code",
        "colab": {
          "base_uri": "https://localhost:8080/",
          "height": 282
        },
        "outputId": "013f1410-28c9-44f8-bb18-267d28aaebb1"
      },
      "source": [
        "#Visualizing the Correlations\n",
        "fig=plt.figure()\n",
        "ax=fig.add_subplot(111)\n",
        "ax.scatter([0,1,2,3],corrs)\n",
        "ax.set_xlabel('0:Correlation betn Open and Close,1:Betn High and Close,2:Betn Low and Close,3:Betn Date and Close')\n",
        "plt.show()"
      ],
      "execution_count": null,
      "outputs": [
        {
          "output_type": "display_data",
          "data": {
            "image/png": "[encoded data removed]",
            "text/plain": [
              "<Figure size 432x288 with 1 Axes>"
            ]
          },
          "metadata": {
            "tags": [],
            "needs_background": "light"
          }
        }
      ]
    },
    {
      "cell_type": "code",
      "metadata": {
        "id": "5dscSKPkHAww",
        "colab_type": "code",
        "colab": {
          "base_uri": "https://localhost:8080/",
          "height": 138
        },
        "outputId": "3e5bc48c-a729-489d-87cf-cbee0c66fd84"
      },
      "source": [
        "#Extracting Data of interest for training of model\n",
        "#From correlation above, it is clear that Open,High,Low and close are highly correlated and hence only one of them is sufficient \n",
        "x_data = spark.sql(\"select Date from df\").collect() #Extracting Dates as X avriable (input) to the model\n",
        "x_data=np.array(x_data) #Convert the list to the Array\n",
        "x_data.reshape(-1,1)  #Converting 1D array to 2D\n",
        "\n",
        "#Data PreProcessing\n",
        "#As date format YYYY-MM-DD is not valid to the regressor, we have to convert it into YYYYMMDD format\n",
        "\n",
        "x_data_new=[] #A list to store the formatted date\n",
        "for value in np.nditer(x_data,flags=['refs_ok'],op_flags = ['readwrite']): #iterating over array and extracting individual values from it\n",
        "  val1=str(value) #Converting the value to string datatype\n",
        "  val = val1.split(\"-\") #Using split function to separate YYYY,MM,DD in list as ['YYYY','MM','DD']\n",
        "  new_year=str(val[0])  #Extracting Year Value\n",
        "  new_month=str(val[1]) #Extracting Month Value\n",
        "  new_date=str(val[2])  #Extracting Day Value\n",
        "  new_data=new_year+new_month+new_date  #Concatenation of Year,Month and Day to convert it into required form\n",
        "  x_data_new.append(new_data) #Storing the formatted value in list\n",
        "x_data=np.array(x_data_new) #Converting list into Numpy array\n",
        "x_data.reshape(-1,1) #Reshaping x_data to 2D as it is 1D only."
      ],
      "execution_count": null,
      "outputs": [
        {
          "output_type": "execute_result",
          "data": {
            "text/plain": [
              "array([['20090302'],\n",
              "       ['20090303'],\n",
              "       ['20090304'],\n",
              "       ...,\n",
              "       ['20200506'],\n",
              "       ['20200507'],\n",
              "       ['20200508']], dtype='<U8')"
            ]
          },
          "metadata": {
            "tags": []
          },
          "execution_count": 19
        }
      ]
    },
    {
      "cell_type": "code",
      "metadata": {
        "id": "TP05_QlVH_tx",
        "colab_type": "code",
        "colab": {
          "base_uri": "https://localhost:8080/",
          "height": 138
        },
        "outputId": "5ab9eee9-aef9-45cc-90dd-485a43559d34"
      },
      "source": [
        "y_data= spark.sql(\"Select Close from df\").collect() #Collecting Close values as Y (target) value\n",
        "y_data=np.array(y_data)\n",
        "y_data.reshape(-1,1)"
      ],
      "execution_count": null,
      "outputs": [
        {
          "output_type": "execute_result",
          "data": {
            "text/plain": [
              "array([[43.17  ],\n",
              "       [43.89  ],\n",
              "       [42.52  ],\n",
              "       ...,\n",
              "       [41.2475],\n",
              "       [39.93  ],\n",
              "       [38.4075]])"
            ]
          },
          "metadata": {
            "tags": []
          },
          "execution_count": 20
        }
      ]
    },
    {
      "cell_type": "code",
      "metadata": {
        "id": "fBHg0QyLIvCo",
        "colab_type": "code",
        "colab": {}
      },
      "source": [
        "#Importing train test split function to separate the training and testing dataset\n",
        "from sklearn.model_selection import train_test_split\n",
        "x_train,x_test,y_train,y_test=train_test_split(x_data,y_data,test_size=0.2)  #Separation of datasets with 80:20 ratio\n",
        "x_train= x_train.reshape(-1,1) #x_train obtained from split is 1D so needs to be reshaped\n",
        "x_test=x_test.reshape(-1,1) #x_test obtained from split is 1D so needs to be reshaped"
      ],
      "execution_count": null,
      "outputs": []
    },
    {
      "cell_type": "code",
      "metadata": {
        "id": "FqSNnqBgJJNE",
        "colab_type": "code",
        "colab": {}
      },
      "source": [
        "#importing SVR from sklearn\n",
        "from sklearn.svm import SVR\n",
        "svr= SVR(C=800,max_iter=160,gamma=0.0025,kernel='rbf',epsilon=0.0025) #Creating an instance to the Support Vector Regressor"
      ],
      "execution_count": null,
      "outputs": []
    },
    {
      "cell_type": "code",
      "metadata": {
        "id": "DBc-__43JAtP",
        "colab_type": "code",
        "colab": {
          "base_uri": "https://localhost:8080/",
          "height": 106
        },
        "outputId": "e8de173b-e68d-49ac-db53-1517a63d878e"
      },
      "source": [
        "model=svr.fit(x_train,y_train) #Fit the Data to the instance of the SVR"
      ],
      "execution_count": null,
      "outputs": [
        {
          "output_type": "stream",
          "text": [
            "/usr/local/lib/python3.6/dist-packages/sklearn/utils/validation.py:760: DataConversionWarning: A column-vector y was passed when a 1d array was expected. Please change the shape of y to (n_samples, ), for example using ravel().\n",
            "  y = column_or_1d(y, warn=True)\n",
            "/usr/local/lib/python3.6/dist-packages/sklearn/svm/_base.py:231: ConvergenceWarning: Solver terminated early (max_iter=160).  Consider pre-processing your data with StandardScaler or MinMaxScaler.\n",
            "  % self.max_iter, ConvergenceWarning)\n"
          ],
          "name": "stderr"
        }
      ]
    },
    {
      "cell_type": "code",
      "metadata": {
        "id": "Pdo3RGmkJMek",
        "colab_type": "code",
        "colab": {
          "base_uri": "https://localhost:8080/",
          "height": 34
        },
        "outputId": "0ed03376-943e-420d-9bfe-ce7903d94ef5"
      },
      "source": [
        "eval1=model.score(x_test,y_test)  #Evaluate the SVR with testing dataset\n",
        "print(eval1)"
      ],
      "execution_count": null,
      "outputs": [
        {
          "output_type": "stream",
          "text": [
            "0.4622955214072178\n"
          ],
          "name": "stdout"
        }
      ]
    },
    {
      "cell_type": "code",
      "metadata": {
        "id": "CTpxVPd4Ese2",
        "colab_type": "code",
        "colab": {}
      },
      "source": [
        "# Import pickle Package\n",
        "\n",
        "import pickle"
      ],
      "execution_count": null,
      "outputs": []
    },
    {
      "cell_type": "code",
      "metadata": {
        "id": "lz7URhUcEyQm",
        "colab_type": "code",
        "colab": {}
      },
      "source": [
        "# Save the Modle to file in the current working directory\n",
        "\n",
        "Pkl_Filename = \"Pickle_RG_Model.pkl\"  \n",
        "\n",
        "with open(Pkl_Filename, 'wb') as file:  \n",
        "    pickle.dump(model, file)"
      ],
      "execution_count": null,
      "outputs": []
    },
    {
      "cell_type": "code",
      "metadata": {
        "id": "Op7MjrJiE9v9",
        "colab_type": "code",
        "colab": {
          "base_uri": "https://localhost:8080/",
          "height": 52
        },
        "outputId": "adc3459f-2ad6-46cb-e042-1ae186977c14"
      },
      "source": [
        "# Load the Model back from file\n",
        "with open(Pkl_Filename, 'rb') as file:  \n",
        "    model = pickle.load(file)\n",
        "model"
      ],
      "execution_count": null,
      "outputs": [
        {
          "output_type": "execute_result",
          "data": {
            "text/plain": [
              "SVR(C=800, cache_size=200, coef0=0.0, degree=3, epsilon=0.0025, gamma=0.0025,\n",
              "    kernel='rbf', max_iter=160, shrinking=True, tol=0.001, verbose=False)"
            ]
          },
          "metadata": {
            "tags": []
          },
          "execution_count": 27
        }
      ]
    },
    {
      "cell_type": "code",
      "metadata": {
        "id": "7cbnV_oIJTg_",
        "colab_type": "code",
        "colab": {
          "base_uri": "https://localhost:8080/",
          "height": 104
        },
        "outputId": "5469ed2d-48a7-4369-8416-31064d028723"
      },
      "source": [
        "start_date=float(input(\"Enter Start Date \")) #Taking start_date and end_date from user\n",
        "end_date=float(input(\"Enter End Date \"))\n",
        "start_pred=model.predict(np.array(start_date).reshape(-1,1))  #Converting values to the required form and making predictions\n",
        "end_pred=model.predict(np.array(end_date).reshape(-1,1))\n",
        "\n",
        "start_val=start_pred.item(0)  #Extracting the predicted values\n",
        "print(start_val)\n",
        "end_val=end_pred.item(0)\n",
        "print(end_val)\n",
        "\n",
        "#Conclusions based on predicted values\n",
        "if(start_val>end_val):\n",
        "  print(\"Fall\")\n",
        "elif(start_val<end_val):\n",
        "  print(\"Rise\")\n",
        "else:\n",
        "  print(\"No change\")"
      ],
      "execution_count": null,
      "outputs": [
        {
          "output_type": "stream",
          "text": [
            "Enter Start Date 20200526\n",
            "Enter End Date 20200529\n",
            "28.633685920280975\n",
            "27.21332187056863\n",
            "Fall\n"
          ],
          "name": "stdout"
        }
      ]
    }
  ]
}